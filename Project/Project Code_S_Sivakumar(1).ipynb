{
 "cells": [
  {
   "cell_type": "code",
   "execution_count": null,
   "metadata": {},
   "outputs": [],
   "source": [
    "# Imported packages.\n",
    "\n",
    "import numpy as np\n",
    "import matplotlib.pyplot as plt\n",
    "from scipy.integrate import ode"
   ]
  },
  {
   "cell_type": "code",
   "execution_count": null,
   "metadata": {},
   "outputs": [],
   "source": [
    "# Constants for the problem in cgs units\n",
    "G = 6.67e-8 # Gravitational constant\n",
    "M_s = 1.98e33 # Mass of Sun\n",
    "M_e = 5.97e27 # Mass of Earth\n",
    "m_m = 7.349e25 # Mass of Moon\n",
    "R_e = 6.371e8 # Radius of Earth\n",
    "k2 = 0.298 # Lover number of Earth\n",
    "Q_m = 11.5 # Tidal quality factor\n",
    "a0 = 3.84e10 # Present day value of the Lunar semimajoraxis\n",
    "a_e = 1.49e13 # Semimajor axis of Earth’s orbit\n",
    "I = 0.3299*M_e*R_e**2 # Earth’s moment of inertia\n",
    "W = (2*np.pi)/86164 # Angular velocity of Earth\n",
    "\n",
    "# Write out the system of equations\n",
    "def T_moon(a):\n",
    "    T_m = 3/2 * G*m_m**2/a * (R_e/a)**5 * (k2/Q_m)\n",
    "    return T_m\n",
    "\n",
    "def T_sun(a):\n",
    "    T_s = 1/4.7 * (a/a0)**6 * T_moon(a)\n",
    "    return T_s\n",
    "\n",
    "def EMsys(t, Z):\n",
    "    L_e, S_e, L_m = Z\n",
    "    a = (L_m/m_m)**2 / (G*(M_e+m_m))\n",
    "    f = [T_sun(a), -T_sun(a)-T_moon(a), T_moon(a)]\n",
    "    return f\n",
    "\n",
    "# Choose solver\n",
    "solver = ode(EMsys)\n",
    "solver.set_integrator('dopri5')\n",
    "\n",
    "# Set the initial conditions\n",
    "t0 = 0.0\n",
    "L_e0, S_e0, L_m0 = M_e*np.sqrt(G*(M_s+M_e)*a_e), I*W, m_m*np.sqrt(G*(M_e+m_m)*a0)\n",
    "Z0 = [L_e0, S_e0, L_m0]\n",
    "\n",
    "solver.set_initial_value(Z0, t0)\n",
    "\n",
    "T = -6.31152e16 # Final time is 2 billion years in the past\n",
    "n = 300\n",
    "\n",
    "# Create an empty array to store the solution\n",
    "t = np.linspace(t0, T, n)\n",
    "sol = np.empty((n, 3))\n",
    "sol[0] = Z0\n",
    "\n",
    "i = 1\n",
    "while solver.successful() and solver.t > T:\n",
    "    solver.integrate(t[i])\n",
    "    sol[i] = solver.y\n",
    "    i += 1\n"
   ]
  },
  {
   "cell_type": "code",
   "execution_count": null,
   "metadata": {},
   "outputs": [],
   "source": [
    "print(\"These are the present day values for L_e, S_e, L_m in cgs unit system\")\n",
    "Z0"
   ]
  },
  {
   "cell_type": "code",
   "execution_count": null,
   "metadata": {},
   "outputs": [],
   "source": [
    "T_m = 3/2 * G*m_m**2/a0 * (R_e/a0)**5 * (k2/Q_m)\n",
    "T_s = 1/4.7 * (a0/a0)**6*T_m\n",
    "\n",
    "print(\"This is the present day Tmoon value,\", T_m)\n",
    "print(\"This is the present day Tsun value\", T_s)"
   ]
  },
  {
   "cell_type": "code",
   "execution_count": null,
   "metadata": {},
   "outputs": [],
   "source": [
    "tau_Ls = L_e0/T_s\n",
    "tau_Se = S_e0/(T_s + T_m)\n",
    "tau_Lm = L_m0/T_m\n",
    "print(tau_Ls, tau_Se, tau_Lm)"
   ]
  },
  {
   "cell_type": "code",
   "execution_count": null,
   "metadata": {},
   "outputs": [],
   "source": [
    "plt.plot(t/60/60/24/365/10**9, (sol[:,2]/m_m)**2 / (G*(M_e+m_m)) / 10**5, label='Semimajor axis of Moon')\n",
    "#plt.plot(t, sol[:,0], label='L_e', color = 'limegreen')\n",
    "#plt.grid(b=True, color='DarkTurquoise', alpha=0.2, linestyle=':', linewidth=2)\n",
    "#plt.plot(t, sol[:,1], label='S_e', color = 'royalblue')\n",
    "#plt.grid(b=True, color='DarkTurquoise', alpha=0.2, linestyle=':', linewidth=2)\n",
    "#plt.plot(t, sol[:,2], label='L_m', color = 'tomato')\n",
    "#plt.grid(b=True, color='DarkTurquoise', alpha=0.2, linestyle=':', linewidth=2)\n",
    "plt.xlabel('Time [$10^{9} years$]')\n",
    "plt.ylabel('$a_{moon}$ [$kms$]')\n",
    "plt.title('Semimajor axis of the Moon as time go back 2 billion years')\n",
    "plt.legend()\n",
    "plt.grid(b=True, color='DarkTurquoise', alpha=0.2, linestyle=':', linewidth=2)\n",
    "plt.tight_layout()\n",
    "plt.savefig(\"plot1.pdf\", dpi=100)\n",
    "plt.show()"
   ]
  },
  {
   "cell_type": "code",
   "execution_count": null,
   "metadata": {},
   "outputs": [],
   "source": [
    "# Determining at which index a_moon goes to zero\n",
    "np.where((sol[:,2]/m_m)**2 / (G*(M_e+m_m)) < 1.0e-10)"
   ]
  },
  {
   "cell_type": "code",
   "execution_count": null,
   "metadata": {},
   "outputs": [],
   "source": [
    "# Retriving how long ago the moon formed \n",
    "print('The moon formed',abs(t[230]/60/60/24/365/10**9), 'billion years ago')"
   ]
  },
  {
   "cell_type": "code",
   "execution_count": null,
   "metadata": {},
   "outputs": [],
   "source": [
    "# Plotting the Length of Day on Earth vs. time\n",
    "plt.plot(t/60/60/24/365/10**9, (86164*S_e0)/(sol[:,1]) / (3600), label='Length of Day on Earth')\n",
    "plt.xlabel('Time [$10^{9} years$]')\n",
    "plt.ylabel('$LoD$ [$hrs.$]')\n",
    "plt.title('Length of Day on Earth'\n",
    "          '\\n as Time goes back 2 billion years')\n",
    "plt.legend()\n",
    "plt.grid(b=True, color='DarkTurquoise', alpha=0.2, linestyle=':', linewidth=2)\n",
    "plt.tight_layout()\n",
    "plt.savefig(\"plot2.pdf\")\n",
    "plt.show()"
   ]
  },
  {
   "cell_type": "code",
   "execution_count": null,
   "metadata": {},
   "outputs": [],
   "source": [
    "print('This is was the length of day when the Earth and Moon collided', (86164*S_e0)/(sol[:,1][229]) /3600, 'hrs.')"
   ]
  },
  {
   "cell_type": "code",
   "execution_count": null,
   "metadata": {},
   "outputs": [],
   "source": [
    "# Determining at which index the semimajor axis of the Moon is at the Roche Radius\n",
    "#Roche Radius = 9492 km\n",
    "np.where((sol[:,2]/m_m)**2 / (G*(M_e+m_m)) > 949200000)"
   ]
  },
  {
   "cell_type": "code",
   "execution_count": null,
   "metadata": {},
   "outputs": [],
   "source": [
    "# Retriving the Length of Day on Earth when the Moon was at the Roche Radius \n",
    "print('When the moon is at Roche Radius, the length of day on Earth is', (86164*S_e0)/(sol[:,1][229]) /3600, 'hrs.')"
   ]
  },
  {
   "cell_type": "code",
   "execution_count": null,
   "metadata": {},
   "outputs": [],
   "source": [
    "# Printing the age of the Moon and Earth\n",
    "print('Age of Moon is 4.51 billion years')\n",
    "print('Age of Earth is 4.54 billion years')"
   ]
  },
  {
   "cell_type": "code",
   "execution_count": null,
   "metadata": {},
   "outputs": [],
   "source": []
  }
 ],
 "metadata": {
  "kernelspec": {
   "display_name": "Python 3",
   "language": "python",
   "name": "python3"
  },
  "language_info": {
   "codemirror_mode": {
    "name": "ipython",
    "version": 3
   },
   "file_extension": ".py",
   "mimetype": "text/x-python",
   "name": "python",
   "nbconvert_exporter": "python",
   "pygments_lexer": "ipython3",
   "version": "3.7.1"
  }
 },
 "nbformat": 4,
 "nbformat_minor": 2
}
