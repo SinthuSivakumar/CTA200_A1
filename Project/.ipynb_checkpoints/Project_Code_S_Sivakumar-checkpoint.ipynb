{
 "cells": [
  {
   "cell_type": "code",
   "execution_count": 1,
   "metadata": {},
   "outputs": [],
   "source": [
    "# Imported packages.\n",
    "\n",
    "import numpy as np\n",
    "import matplotlib.pyplot as plt\n",
    "from scipy.integrate import ode"
   ]
  },
  {
   "cell_type": "code",
   "execution_count": 2,
   "metadata": {},
   "outputs": [
    {
     "name": "stderr",
     "output_type": "stream",
     "text": [
      "/opt/anaconda/3-5.3/lib/python3.7/site-packages/scipy/integrate/_ode.py:1177: UserWarning: dopri5: step size becomes too small\n",
      "  self.messages.get(istate, unexpected_istate_msg)))\n"
     ]
    }
   ],
   "source": [
    "# Constants for the problem in cgs units\n",
    "G = 6.67e-8 # Gravitational constant\n",
    "M_s = 1.98e33 # Mass of Sun\n",
    "M_e = 5.97e27 # Mass of Earth\n",
    "m_m = 7.349e25 # Mass of Moon\n",
    "R_e = 6.371e8 # Radius of Earth\n",
    "k2 = 0.298 # Lover number of Earth\n",
    "Q_m = 11.5 # Tidal quality factor\n",
    "a0 = 3.84e10 # Present day value of the Lunar semimajoraxis\n",
    "a_e = 1.49e13 # Semimajor axis of Earth’s orbit\n",
    "I = 0.3299*M_e*R_e**2 # Earth’s moment of inertia\n",
    "W = (2*np.pi)/86164 # Angular velocity of Earth\n",
    "\n",
    "# Write out the system of equations\n",
    "def T_moon(a):\n",
    "    T_m = 3/2 * G*m_m**2/a * (R_e/a)**5 * (k2/Q_m)\n",
    "    return T_m\n",
    "\n",
    "def T_sun(a):\n",
    "    T_s = 1/4.7 * (a/a0)**6 * T_moon(a)\n",
    "    return T_s\n",
    "\n",
    "def EMsys(t, Z):\n",
    "    L_e, S_e, L_m = Z\n",
    "    a = (L_m/m_m)**2 / (G*(M_e+m_m))\n",
    "    f = [T_sun(a), -T_sun(a)-T_moon(a), T_moon(a)]\n",
    "    return f\n",
    "\n",
    "# Choose solver\n",
    "solver = ode(EMsys)\n",
    "solver.set_integrator('dopri5')\n",
    "\n",
    "# Set the initial conditions\n",
    "t0 = 0.0\n",
    "L_e0, S_e0, L_m0 = M_e*np.sqrt(G*(M_s+M_e)*a_e), I*W, m_m*np.sqrt(G*(M_e+m_m)*a0)\n",
    "Z0 = [L_e0, S_e0, L_m0]\n",
    "\n",
    "solver.set_initial_value(Z0, t0)\n",
    "\n",
    "T = -5.5188e16 # Final time is 2 billion years in the past\n",
    "n = 100\n",
    "\n",
    "# Create an empty array to store the solution\n",
    "t = np.linspace(t0, T, n)\n",
    "sol = np.empty((n, 3))\n",
    "sol[0] = Z0\n",
    "\n",
    "i = 1\n",
    "while solver.successful() and solver.t > T:\n",
    "    solver.integrate(t[i])\n",
    "    sol[i] = solver.y\n",
    "    i += 1\n"
   ]
  },
  {
   "cell_type": "code",
   "execution_count": 3,
   "metadata": {},
   "outputs": [
    {
     "name": "stdout",
     "output_type": "stream",
     "text": [
      "These are the present day values for L_e, S_e, L_m in cgs unit system\n"
     ]
    },
    {
     "data": {
      "text/plain": [
       "[2.6482783623404096e+47, 5.829427067103106e+40, 2.8913500926978634e+41]"
      ]
     },
     "execution_count": 3,
     "metadata": {},
     "output_type": "execute_result"
    }
   ],
   "source": [
    "print(\"These are the present day values for L_e, S_e, L_m in cgs unit system\")\n",
    "Z0"
   ]
  },
  {
   "cell_type": "code",
   "execution_count": 4,
   "metadata": {},
   "outputs": [
    {
     "name": "stdout",
     "output_type": "stream",
     "text": [
      "This is the present day Tmoon value, 4.583979752290668e+23\n",
      "This is the present day Tsun value 9.75314840912908e+22\n"
     ]
    }
   ],
   "source": [
    "T_m = 3/2 * G*m_m**2/a0 * (R_e/a0)**5 * (k2/Q_m)\n",
    "T_s = 1/4.7 * (a0/a0)**6*T_m\n",
    "\n",
    "print(\"This is the present day Tmoon value,\", T_m)\n",
    "print(\"This is the present day Tsun value\", T_s)"
   ]
  },
  {
   "cell_type": "code",
   "execution_count": 5,
   "metadata": {},
   "outputs": [
    {
     "name": "stdout",
     "output_type": "stream",
     "text": [
      "2.7153061260316567e+24 1.0485911421621325e+17 6.307510610737367e+17\n"
     ]
    }
   ],
   "source": [
    "tau_Ls = L_e0/T_s\n",
    "tau_Se = S_e0/(T_s + T_m)\n",
    "tau_Lm = L_m0/T_m\n",
    "print(tau_Ls, tau_Se, tau_Lm)"
   ]
  },
  {
   "cell_type": "code",
   "execution_count": 6,
   "metadata": {},
   "outputs": [
    {
     "data": {
      "image/png": "[encoded data removed]",
      "text/plain": [
       "<Figure size 432x288 with 1 Axes>"
      ]
     },
     "metadata": {
      "needs_background": "light"
     },
     "output_type": "display_data"
    }
   ],
   "source": [
    "plt.plot(t/60/60/24/365/10**9, ((sol[:,2]/m_m)**2 / (G*(M_e+m_m))) / 10**5, label='Semimajor axis of Moon')\n",
    "#plt.plot(t, sol[:,0], label='L_e', color = 'limegreen')\n",
    "#plt.grid(b=True, color='DarkTurquoise', alpha=0.2, linestyle=':', linewidth=2)\n",
    "#plt.plot(t, sol[:,1], label='S_e', color = 'royalblue')\n",
    "#plt.grid(b=True, color='DarkTurquoise', alpha=0.2, linestyle=':', linewidth=2)\n",
    "#plt.plot(t, sol[:,2], label='L_m', color = 'tomato')\n",
    "#plt.grid(b=True, color='DarkTurquoise', alpha=0.2, linestyle=':', linewidth=2)\n",
    "plt.xlabel('Time [$10^{9} years$]')\n",
    "plt.ylabel('$a_{moon}$ [$kms$]')\n",
    "plt.title('Semimajor axis of the Moon as time go back 2 billion years')\n",
    "plt.legend()\n",
    "plt.grid(b=True, color='DarkTurquoise', alpha=0.2, linestyle=':', linewidth=2)\n",
    "plt.tight_layout()\n",
    "plt.savefig(\"plot1.pdf\", dpi=100)\n",
    "plt.show()"
   ]
  },
  {
   "cell_type": "code",
   "execution_count": 7,
   "metadata": {},
   "outputs": [
    {
     "data": {
      "text/plain": [
       "(array([89, 90, 91, 92, 93, 94, 95, 96, 97, 98, 99]),)"
      ]
     },
     "execution_count": 7,
     "metadata": {},
     "output_type": "execute_result"
    }
   ],
   "source": [
    "# Determining at which index a_moon goes to zero\n",
    "np.where(((sol[:,2]/m_m)**2 / (G*(M_e+m_m))) < 1.0e-10)"
   ]
  },
  {
   "cell_type": "code",
   "execution_count": 8,
   "metadata": {},
   "outputs": [
    {
     "name": "stdout",
     "output_type": "stream",
     "text": [
      "The moon formed 1.3434343434343434 billion years ago\n"
     ]
    }
   ],
   "source": [
    "# Retriving how long ago the moon formed \n",
    "print('The moon formed',abs(t[76]/60/60/24/365/10**9), 'billion years ago')"
   ]
  },
  {
   "cell_type": "code",
   "execution_count": 9,
   "metadata": {},
   "outputs": [
    {
     "name": "stderr",
     "output_type": "stream",
     "text": [
      "/opt/anaconda/3-5.3/lib/python3.7/site-packages/ipykernel_launcher.py:2: RuntimeWarning: divide by zero encountered in true_divide\n",
      "  \n",
      "/opt/anaconda/3-5.3/lib/python3.7/site-packages/ipykernel_launcher.py:2: RuntimeWarning: overflow encountered in true_divide\n",
      "  \n"
     ]
    },
    {
     "data": {
      "image/png": "[encoded data removed]",
      "text/plain": [
       "<Figure size 432x288 with 1 Axes>"
      ]
     },
     "metadata": {
      "needs_background": "light"
     },
     "output_type": "display_data"
    }
   ],
   "source": [
    "# Plotting the Length of Day on Earth vs. time\n",
    "plt.plot(t/60/60/24/365/10**9, ((86164*S_e0)/(sol[:,1])) / 3600, label='Length of Day on Earth')\n",
    "plt.xlabel('Time [$10^{9} years$]')\n",
    "plt.ylabel('$LoD$ [$hrs.$]')\n",
    "plt.title('Length of Day on Earth'\n",
    "          '\\n as Time goes back 2 billion years')\n",
    "plt.legend()\n",
    "plt.grid(b=True, color='DarkTurquoise', alpha=0.2, linestyle=':', linewidth=2)\n",
    "plt.tight_layout()\n",
    "plt.savefig(\"plot2.pdf\")\n",
    "plt.show()"
   ]
  },
  {
   "cell_type": "code",
   "execution_count": 10,
   "metadata": {},
   "outputs": [
    {
     "name": "stdout",
     "output_type": "stream",
     "text": [
      "This is was the length of day when the Earth and Moon collided 13.301509178157152 hrs.\n"
     ]
    }
   ],
   "source": [
    "print('This is was the length of day when the Earth and Moon collided', (86164*S_e0)/(sol[:,1][76]) /3600, 'hrs.')"
   ]
  },
  {
   "cell_type": "code",
   "execution_count": 11,
   "metadata": {},
   "outputs": [
    {
     "data": {
      "text/plain": [
       "(array([88, 89, 90, 91, 92, 93, 94, 95, 96, 97, 98, 99]),)"
      ]
     },
     "execution_count": 11,
     "metadata": {},
     "output_type": "execute_result"
    }
   ],
   "source": [
    "# Determining at which index the semimajor axis of the Moon is at the Roche Radius\n",
    "#Roche Radius = 9492 km\n",
    "np.where(((sol[:,2]/m_m)**2 / (G*(M_e+m_m))) <= 949200000)"
   ]
  },
  {
   "cell_type": "code",
   "execution_count": 12,
   "metadata": {},
   "outputs": [
    {
     "name": "stdout",
     "output_type": "stream",
     "text": [
      "When the moon is at Roche Radius, the length of day on Earth is 13.301509178157152 hrs.\n"
     ]
    }
   ],
   "source": [
    "# Retriving the Length of Day on Earth when the Moon was at the Roche Radius \n",
    "print('When the moon is at Roche Radius, the length of day on Earth is', (86164*S_e0)/(sol[:,1][76]) /3600, 'hrs.')"
   ]
  },
  {
   "cell_type": "code",
   "execution_count": 13,
   "metadata": {},
   "outputs": [
    {
     "name": "stdout",
     "output_type": "stream",
     "text": [
      "Age of Moon is 4.51 billion years\n",
      "Age of Earth is 4.54 billion years\n"
     ]
    }
   ],
   "source": [
    "# Printing the age of the Moon and Earth\n",
    "print('Age of Moon is 4.51 billion years')\n",
    "print('Age of Earth is 4.54 billion years')"
   ]
  },
  {
   "cell_type": "code",
   "execution_count": null,
   "metadata": {},
   "outputs": [],
   "source": []
  }
 ],
 "metadata": {
  "kernelspec": {
   "display_name": "Python 3",
   "language": "python",
   "name": "python3"
  },
  "language_info": {
   "codemirror_mode": {
    "name": "ipython",
    "version": 3
   },
   "file_extension": ".py",
   "mimetype": "text/x-python",
   "name": "python",
   "nbconvert_exporter": "python",
   "pygments_lexer": "ipython3",
   "version": "3.7.0"
  }
 },
 "nbformat": 4,
 "nbformat_minor": 2
}
